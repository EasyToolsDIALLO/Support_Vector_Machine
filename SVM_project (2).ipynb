{
  "nbformat": 4,
  "nbformat_minor": 0,
  "metadata": {
    "colab": {
      "name": "SVM_project.ipynb",
      "provenance": [],
      "collapsed_sections": []
    },
    "kernelspec": {
      "name": "python3",
      "display_name": "Python 3"
    },
    "language_info": {
      "name": "python"
    }
  },
  "cells": [
    {
      "cell_type": "code",
      "execution_count": 1,
      "metadata": {
        "id": "oHRvVMT8jy_Z"
      },
      "outputs": [],
      "source": [
        "import numpy as np\n",
        "import pandas as pd\n",
        "import matplotlib.pyplot as plt\n",
        "from sklearn.model_selection import  train_test_split\n",
        "from sklearn import svm"
      ]
    },
    {
      "cell_type": "code",
      "source": [
        "data = pd.read_csv('/content/drive/MyDrive/supervised_learning/dataset.csv')"
      ],
      "metadata": {
        "id": "jkFrOk8xnBNb"
      },
      "execution_count": 2,
      "outputs": []
    },
    {
      "cell_type": "code",
      "source": [
        "data.head()"
      ],
      "metadata": {
        "colab": {
          "base_uri": "https://localhost:8080/",
          "height": 206
        },
        "id": "oaiPG3YXpaGf",
        "outputId": "eb2a039e-fc63-4565-efe7-97fa262b6b87"
      },
      "execution_count": 3,
      "outputs": [
        {
          "output_type": "execute_result",
          "data": {
            "text/plain": [
              "                ID             Datetime  Sensor1_PM2.5  Sensor2_PM2.5  \\\n",
              "0  ID_QF0ZTQJ2SF5Q  2021-11-03 04:06:31          52.58          49.52   \n",
              "1  ID_4GTK689CNX5S  2021-11-08 18:43:23          35.25          33.40   \n",
              "2  ID_DL7VVKW9U7XQ  2021-11-07 09:50:33          19.18          23.50   \n",
              "3  ID_6XQOMBXM2DG3  2022-01-01 18:55:15          19.40          15.48   \n",
              "4  ID_UQZW9ISJY9QE  2021-11-05 22:23:48          38.30          34.77   \n",
              "\n",
              "   Temperature  Relative_Humidity  Offset_fault  \n",
              "0         17.4               96.0             0  \n",
              "1         25.0               75.0             0  \n",
              "2         24.9               75.0             0  \n",
              "3         24.9               70.0             0  \n",
              "4         20.9               89.0             0  "
            ],
            "text/html": [
              "\n",
              "  <div id=\"df-962a3d9c-ea1f-415d-840e-7f089e2a2982\">\n",
              "    <div class=\"colab-df-container\">\n",
              "      <div>\n",
              "<style scoped>\n",
              "    .dataframe tbody tr th:only-of-type {\n",
              "        vertical-align: middle;\n",
              "    }\n",
              "\n",
              "    .dataframe tbody tr th {\n",
              "        vertical-align: top;\n",
              "    }\n",
              "\n",
              "    .dataframe thead th {\n",
              "        text-align: right;\n",
              "    }\n",
              "</style>\n",
              "<table border=\"1\" class=\"dataframe\">\n",
              "  <thead>\n",
              "    <tr style=\"text-align: right;\">\n",
              "      <th></th>\n",
              "      <th>ID</th>\n",
              "      <th>Datetime</th>\n",
              "      <th>Sensor1_PM2.5</th>\n",
              "      <th>Sensor2_PM2.5</th>\n",
              "      <th>Temperature</th>\n",
              "      <th>Relative_Humidity</th>\n",
              "      <th>Offset_fault</th>\n",
              "    </tr>\n",
              "  </thead>\n",
              "  <tbody>\n",
              "    <tr>\n",
              "      <th>0</th>\n",
              "      <td>ID_QF0ZTQJ2SF5Q</td>\n",
              "      <td>2021-11-03 04:06:31</td>\n",
              "      <td>52.58</td>\n",
              "      <td>49.52</td>\n",
              "      <td>17.4</td>\n",
              "      <td>96.0</td>\n",
              "      <td>0</td>\n",
              "    </tr>\n",
              "    <tr>\n",
              "      <th>1</th>\n",
              "      <td>ID_4GTK689CNX5S</td>\n",
              "      <td>2021-11-08 18:43:23</td>\n",
              "      <td>35.25</td>\n",
              "      <td>33.40</td>\n",
              "      <td>25.0</td>\n",
              "      <td>75.0</td>\n",
              "      <td>0</td>\n",
              "    </tr>\n",
              "    <tr>\n",
              "      <th>2</th>\n",
              "      <td>ID_DL7VVKW9U7XQ</td>\n",
              "      <td>2021-11-07 09:50:33</td>\n",
              "      <td>19.18</td>\n",
              "      <td>23.50</td>\n",
              "      <td>24.9</td>\n",
              "      <td>75.0</td>\n",
              "      <td>0</td>\n",
              "    </tr>\n",
              "    <tr>\n",
              "      <th>3</th>\n",
              "      <td>ID_6XQOMBXM2DG3</td>\n",
              "      <td>2022-01-01 18:55:15</td>\n",
              "      <td>19.40</td>\n",
              "      <td>15.48</td>\n",
              "      <td>24.9</td>\n",
              "      <td>70.0</td>\n",
              "      <td>0</td>\n",
              "    </tr>\n",
              "    <tr>\n",
              "      <th>4</th>\n",
              "      <td>ID_UQZW9ISJY9QE</td>\n",
              "      <td>2021-11-05 22:23:48</td>\n",
              "      <td>38.30</td>\n",
              "      <td>34.77</td>\n",
              "      <td>20.9</td>\n",
              "      <td>89.0</td>\n",
              "      <td>0</td>\n",
              "    </tr>\n",
              "  </tbody>\n",
              "</table>\n",
              "</div>\n",
              "      <button class=\"colab-df-convert\" onclick=\"convertToInteractive('df-962a3d9c-ea1f-415d-840e-7f089e2a2982')\"\n",
              "              title=\"Convert this dataframe to an interactive table.\"\n",
              "              style=\"display:none;\">\n",
              "        \n",
              "  <svg xmlns=\"http://www.w3.org/2000/svg\" height=\"24px\"viewBox=\"0 0 24 24\"\n",
              "       width=\"24px\">\n",
              "    <path d=\"M0 0h24v24H0V0z\" fill=\"none\"/>\n",
              "    <path d=\"M18.56 5.44l.94 2.06.94-2.06 2.06-.94-2.06-.94-.94-2.06-.94 2.06-2.06.94zm-11 1L8.5 8.5l.94-2.06 2.06-.94-2.06-.94L8.5 2.5l-.94 2.06-2.06.94zm10 10l.94 2.06.94-2.06 2.06-.94-2.06-.94-.94-2.06-.94 2.06-2.06.94z\"/><path d=\"M17.41 7.96l-1.37-1.37c-.4-.4-.92-.59-1.43-.59-.52 0-1.04.2-1.43.59L10.3 9.45l-7.72 7.72c-.78.78-.78 2.05 0 2.83L4 21.41c.39.39.9.59 1.41.59.51 0 1.02-.2 1.41-.59l7.78-7.78 2.81-2.81c.8-.78.8-2.07 0-2.86zM5.41 20L4 18.59l7.72-7.72 1.47 1.35L5.41 20z\"/>\n",
              "  </svg>\n",
              "      </button>\n",
              "      \n",
              "  <style>\n",
              "    .colab-df-container {\n",
              "      display:flex;\n",
              "      flex-wrap:wrap;\n",
              "      gap: 12px;\n",
              "    }\n",
              "\n",
              "    .colab-df-convert {\n",
              "      background-color: #E8F0FE;\n",
              "      border: none;\n",
              "      border-radius: 50%;\n",
              "      cursor: pointer;\n",
              "      display: none;\n",
              "      fill: #1967D2;\n",
              "      height: 32px;\n",
              "      padding: 0 0 0 0;\n",
              "      width: 32px;\n",
              "    }\n",
              "\n",
              "    .colab-df-convert:hover {\n",
              "      background-color: #E2EBFA;\n",
              "      box-shadow: 0px 1px 2px rgba(60, 64, 67, 0.3), 0px 1px 3px 1px rgba(60, 64, 67, 0.15);\n",
              "      fill: #174EA6;\n",
              "    }\n",
              "\n",
              "    [theme=dark] .colab-df-convert {\n",
              "      background-color: #3B4455;\n",
              "      fill: #D2E3FC;\n",
              "    }\n",
              "\n",
              "    [theme=dark] .colab-df-convert:hover {\n",
              "      background-color: #434B5C;\n",
              "      box-shadow: 0px 1px 3px 1px rgba(0, 0, 0, 0.15);\n",
              "      filter: drop-shadow(0px 1px 2px rgba(0, 0, 0, 0.3));\n",
              "      fill: #FFFFFF;\n",
              "    }\n",
              "  </style>\n",
              "\n",
              "      <script>\n",
              "        const buttonEl =\n",
              "          document.querySelector('#df-962a3d9c-ea1f-415d-840e-7f089e2a2982 button.colab-df-convert');\n",
              "        buttonEl.style.display =\n",
              "          google.colab.kernel.accessAllowed ? 'block' : 'none';\n",
              "\n",
              "        async function convertToInteractive(key) {\n",
              "          const element = document.querySelector('#df-962a3d9c-ea1f-415d-840e-7f089e2a2982');\n",
              "          const dataTable =\n",
              "            await google.colab.kernel.invokeFunction('convertToInteractive',\n",
              "                                                     [key], {});\n",
              "          if (!dataTable) return;\n",
              "\n",
              "          const docLinkHtml = 'Like what you see? Visit the ' +\n",
              "            '<a target=\"_blank\" href=https://colab.research.google.com/notebooks/data_table.ipynb>data table notebook</a>'\n",
              "            + ' to learn more about interactive tables.';\n",
              "          element.innerHTML = '';\n",
              "          dataTable['output_type'] = 'display_data';\n",
              "          await google.colab.output.renderOutput(dataTable, element);\n",
              "          const docLink = document.createElement('div');\n",
              "          docLink.innerHTML = docLinkHtml;\n",
              "          element.appendChild(docLink);\n",
              "        }\n",
              "      </script>\n",
              "    </div>\n",
              "  </div>\n",
              "  "
            ]
          },
          "metadata": {},
          "execution_count": 3
        }
      ]
    },
    {
      "cell_type": "code",
      "source": [
        "features = data.iloc[:,2:-1]\n",
        "target = data.iloc[:,-1]\n"
      ],
      "metadata": {
        "id": "TgpnZeTLpfSJ"
      },
      "execution_count": 4,
      "outputs": []
    },
    {
      "cell_type": "code",
      "source": [
        "#Pretraitement des donnes (On remplace les valeurs nan par la moyenne des eleemnt de la colonne concerné)  \n",
        "mean_value_1=features['Sensor1_PM2.5'].mean() \n",
        "mean_value_2=features['Sensor2_PM2.5'].mean()\n",
        "mean_value_3=features['Temperature'].mean()\n",
        "mean_value_4=features['Relative_Humidity'].mean()\n",
        "features['Sensor1_PM2.5'].fillna(value=mean_value_1, inplace=True) \n",
        "features['Sensor2_PM2.5'].fillna(value=mean_value_2, inplace=True) \n",
        "features['Temperature'].fillna(value=mean_value_3, inplace=True) \n",
        "features['Relative_Humidity'].fillna(value=mean_value_4, inplace=True) "
      ],
      "metadata": {
        "id": "YuEbmXfnqR1C"
      },
      "execution_count": 5,
      "outputs": []
    },
    {
      "cell_type": "code",
      "source": [
        "#Nous allons standardizer les features\n",
        "def scale(feature):\n",
        "  return (feature - feature.mean())/feature.std()\n",
        "\n",
        "features_scaled = scale(features)\n",
        "features_scaled.head()"
      ],
      "metadata": {
        "colab": {
          "base_uri": "https://localhost:8080/",
          "height": 206
        },
        "id": "KkARahjG1poS",
        "outputId": "7ca992e2-a4e9-4320-d008-67601fdfa75c"
      },
      "execution_count": 6,
      "outputs": [
        {
          "output_type": "execute_result",
          "data": {
            "text/plain": [
              "   Sensor1_PM2.5  Sensor2_PM2.5  Temperature  Relative_Humidity\n",
              "0       0.417209       0.398166    -1.551276           1.181291\n",
              "1      -0.194031      -0.167984     0.441387          -0.248812\n",
              "2      -0.760830      -0.515682     0.415168          -0.248812\n",
              "3      -0.753070      -0.797352     0.415168          -0.589313\n",
              "4      -0.086455      -0.119868    -0.633602           0.704590"
            ],
            "text/html": [
              "\n",
              "  <div id=\"df-52c76a84-3ad2-4ff9-8466-7e0bacb8a481\">\n",
              "    <div class=\"colab-df-container\">\n",
              "      <div>\n",
              "<style scoped>\n",
              "    .dataframe tbody tr th:only-of-type {\n",
              "        vertical-align: middle;\n",
              "    }\n",
              "\n",
              "    .dataframe tbody tr th {\n",
              "        vertical-align: top;\n",
              "    }\n",
              "\n",
              "    .dataframe thead th {\n",
              "        text-align: right;\n",
              "    }\n",
              "</style>\n",
              "<table border=\"1\" class=\"dataframe\">\n",
              "  <thead>\n",
              "    <tr style=\"text-align: right;\">\n",
              "      <th></th>\n",
              "      <th>Sensor1_PM2.5</th>\n",
              "      <th>Sensor2_PM2.5</th>\n",
              "      <th>Temperature</th>\n",
              "      <th>Relative_Humidity</th>\n",
              "    </tr>\n",
              "  </thead>\n",
              "  <tbody>\n",
              "    <tr>\n",
              "      <th>0</th>\n",
              "      <td>0.417209</td>\n",
              "      <td>0.398166</td>\n",
              "      <td>-1.551276</td>\n",
              "      <td>1.181291</td>\n",
              "    </tr>\n",
              "    <tr>\n",
              "      <th>1</th>\n",
              "      <td>-0.194031</td>\n",
              "      <td>-0.167984</td>\n",
              "      <td>0.441387</td>\n",
              "      <td>-0.248812</td>\n",
              "    </tr>\n",
              "    <tr>\n",
              "      <th>2</th>\n",
              "      <td>-0.760830</td>\n",
              "      <td>-0.515682</td>\n",
              "      <td>0.415168</td>\n",
              "      <td>-0.248812</td>\n",
              "    </tr>\n",
              "    <tr>\n",
              "      <th>3</th>\n",
              "      <td>-0.753070</td>\n",
              "      <td>-0.797352</td>\n",
              "      <td>0.415168</td>\n",
              "      <td>-0.589313</td>\n",
              "    </tr>\n",
              "    <tr>\n",
              "      <th>4</th>\n",
              "      <td>-0.086455</td>\n",
              "      <td>-0.119868</td>\n",
              "      <td>-0.633602</td>\n",
              "      <td>0.704590</td>\n",
              "    </tr>\n",
              "  </tbody>\n",
              "</table>\n",
              "</div>\n",
              "      <button class=\"colab-df-convert\" onclick=\"convertToInteractive('df-52c76a84-3ad2-4ff9-8466-7e0bacb8a481')\"\n",
              "              title=\"Convert this dataframe to an interactive table.\"\n",
              "              style=\"display:none;\">\n",
              "        \n",
              "  <svg xmlns=\"http://www.w3.org/2000/svg\" height=\"24px\"viewBox=\"0 0 24 24\"\n",
              "       width=\"24px\">\n",
              "    <path d=\"M0 0h24v24H0V0z\" fill=\"none\"/>\n",
              "    <path d=\"M18.56 5.44l.94 2.06.94-2.06 2.06-.94-2.06-.94-.94-2.06-.94 2.06-2.06.94zm-11 1L8.5 8.5l.94-2.06 2.06-.94-2.06-.94L8.5 2.5l-.94 2.06-2.06.94zm10 10l.94 2.06.94-2.06 2.06-.94-2.06-.94-.94-2.06-.94 2.06-2.06.94z\"/><path d=\"M17.41 7.96l-1.37-1.37c-.4-.4-.92-.59-1.43-.59-.52 0-1.04.2-1.43.59L10.3 9.45l-7.72 7.72c-.78.78-.78 2.05 0 2.83L4 21.41c.39.39.9.59 1.41.59.51 0 1.02-.2 1.41-.59l7.78-7.78 2.81-2.81c.8-.78.8-2.07 0-2.86zM5.41 20L4 18.59l7.72-7.72 1.47 1.35L5.41 20z\"/>\n",
              "  </svg>\n",
              "      </button>\n",
              "      \n",
              "  <style>\n",
              "    .colab-df-container {\n",
              "      display:flex;\n",
              "      flex-wrap:wrap;\n",
              "      gap: 12px;\n",
              "    }\n",
              "\n",
              "    .colab-df-convert {\n",
              "      background-color: #E8F0FE;\n",
              "      border: none;\n",
              "      border-radius: 50%;\n",
              "      cursor: pointer;\n",
              "      display: none;\n",
              "      fill: #1967D2;\n",
              "      height: 32px;\n",
              "      padding: 0 0 0 0;\n",
              "      width: 32px;\n",
              "    }\n",
              "\n",
              "    .colab-df-convert:hover {\n",
              "      background-color: #E2EBFA;\n",
              "      box-shadow: 0px 1px 2px rgba(60, 64, 67, 0.3), 0px 1px 3px 1px rgba(60, 64, 67, 0.15);\n",
              "      fill: #174EA6;\n",
              "    }\n",
              "\n",
              "    [theme=dark] .colab-df-convert {\n",
              "      background-color: #3B4455;\n",
              "      fill: #D2E3FC;\n",
              "    }\n",
              "\n",
              "    [theme=dark] .colab-df-convert:hover {\n",
              "      background-color: #434B5C;\n",
              "      box-shadow: 0px 1px 3px 1px rgba(0, 0, 0, 0.15);\n",
              "      filter: drop-shadow(0px 1px 2px rgba(0, 0, 0, 0.3));\n",
              "      fill: #FFFFFF;\n",
              "    }\n",
              "  </style>\n",
              "\n",
              "      <script>\n",
              "        const buttonEl =\n",
              "          document.querySelector('#df-52c76a84-3ad2-4ff9-8466-7e0bacb8a481 button.colab-df-convert');\n",
              "        buttonEl.style.display =\n",
              "          google.colab.kernel.accessAllowed ? 'block' : 'none';\n",
              "\n",
              "        async function convertToInteractive(key) {\n",
              "          const element = document.querySelector('#df-52c76a84-3ad2-4ff9-8466-7e0bacb8a481');\n",
              "          const dataTable =\n",
              "            await google.colab.kernel.invokeFunction('convertToInteractive',\n",
              "                                                     [key], {});\n",
              "          if (!dataTable) return;\n",
              "\n",
              "          const docLinkHtml = 'Like what you see? Visit the ' +\n",
              "            '<a target=\"_blank\" href=https://colab.research.google.com/notebooks/data_table.ipynb>data table notebook</a>'\n",
              "            + ' to learn more about interactive tables.';\n",
              "          element.innerHTML = '';\n",
              "          dataTable['output_type'] = 'display_data';\n",
              "          await google.colab.output.renderOutput(dataTable, element);\n",
              "          const docLink = document.createElement('div');\n",
              "          docLink.innerHTML = docLinkHtml;\n",
              "          element.appendChild(docLink);\n",
              "        }\n",
              "      </script>\n",
              "    </div>\n",
              "  </div>\n",
              "  "
            ]
          },
          "metadata": {},
          "execution_count": 6
        }
      ]
    },
    {
      "cell_type": "code",
      "source": [
        "#Convertir en matrice numpy\n",
        "features_np = features_scaled.values\n",
        "target_np = target.values\n",
        "target_np.shape"
      ],
      "metadata": {
        "colab": {
          "base_uri": "https://localhost:8080/"
        },
        "id": "WCpDMMqb1qX6",
        "outputId": "22dd00d4-e70a-4588-cfb9-a3b96c08760f"
      },
      "execution_count": 7,
      "outputs": [
        {
          "output_type": "execute_result",
          "data": {
            "text/plain": [
              "(297177,)"
            ]
          },
          "metadata": {},
          "execution_count": 7
        }
      ]
    },
    {
      "cell_type": "code",
      "source": [
        "#Etablir les données d'entraînement et de test\n",
        "x_train,x_test,y_train,y_test = train_test_split(features_np,target_np,test_size=0.2)\n",
        "#Mise en forme \n",
        "y_train = y_train.reshape(y_train.shape[0],1)\n",
        "y_test = y_test.reshape(y_test.shape[0],1)\n",
        "print(x_train.shape,y_train.shape,x_test.shape,y_test.shape)"
      ],
      "metadata": {
        "colab": {
          "base_uri": "https://localhost:8080/"
        },
        "id": "TD5nqb65ZRXK",
        "outputId": "d40ffb15-abc7-4a07-ac81-bca081158b73"
      },
      "execution_count": 8,
      "outputs": [
        {
          "output_type": "stream",
          "name": "stdout",
          "text": [
            "(237741, 4) (237741, 1) (59436, 4) (59436, 1)\n"
          ]
        }
      ]
    },
    {
      "cell_type": "code",
      "source": [
        "#Creer le modele SVM\n",
        "classificateur = svm.SVC(kernel='linear')\n",
        "classificateur.fit(x_train,y_train)"
      ],
      "metadata": {
        "colab": {
          "base_uri": "https://localhost:8080/"
        },
        "id": "6K5wGXIibTVg",
        "outputId": "ac2495aa-446c-4911-d163-cd544996a2a6"
      },
      "execution_count": 9,
      "outputs": [
        {
          "output_type": "stream",
          "name": "stderr",
          "text": [
            "/usr/local/lib/python3.7/dist-packages/sklearn/utils/validation.py:993: DataConversionWarning: A column-vector y was passed when a 1d array was expected. Please change the shape of y to (n_samples, ), for example using ravel().\n",
            "  y = column_or_1d(y, warn=True)\n"
          ]
        },
        {
          "output_type": "execute_result",
          "data": {
            "text/plain": [
              "SVC(kernel='linear')"
            ]
          },
          "metadata": {},
          "execution_count": 9
        }
      ]
    },
    {
      "cell_type": "code",
      "source": [
        "y_pred = classificateur.predict(x_test)"
      ],
      "metadata": {
        "id": "sdWSi0EPdGpe"
      },
      "execution_count": 10,
      "outputs": []
    },
    {
      "cell_type": "code",
      "source": [
        "from sklearn.metrics import classification_report\n",
        "print(classification_report(y_test,y_pred))"
      ],
      "metadata": {
        "colab": {
          "base_uri": "https://localhost:8080/"
        },
        "id": "7fAi0Di-ntus",
        "outputId": "318d95b7-0714-4198-9246-eff904458d05"
      },
      "execution_count": 11,
      "outputs": [
        {
          "output_type": "stream",
          "name": "stdout",
          "text": [
            "              precision    recall  f1-score   support\n",
            "\n",
            "           0       0.92      0.91      0.92     37316\n",
            "           1       0.86      0.87      0.86     22120\n",
            "\n",
            "    accuracy                           0.90     59436\n",
            "   macro avg       0.89      0.89      0.89     59436\n",
            "weighted avg       0.90      0.90      0.90     59436\n",
            "\n"
          ]
        }
      ]
    },
    {
      "cell_type": "markdown",
      "source": [
        "# Etablissons l'algorithme SVM"
      ],
      "metadata": {
        "id": "r7obCesDO35M"
      }
    },
    {
      "cell_type": "markdown",
      "source": [
        "# Contrainte (Marge dure)"
      ],
      "metadata": {
        "id": "iWEQqu4WTUQ2"
      }
    },
    {
      "cell_type": "markdown",
      "source": [
        "![image.png](data:image/png;base64,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)"
      ],
      "metadata": {
        "id": "yAdMnTXOTdZb"
      }
    },
    {
      "cell_type": "markdown",
      "source": [
        "# Hinge Loss"
      ],
      "metadata": {
        "id": "xHZq16C-PIsG"
      }
    },
    {
      "cell_type": "markdown",
      "source": [
        "L = max(0, 1- y*f(x))"
      ],
      "metadata": {
        "id": "hp87cIPjSXkO"
      }
    },
    {
      "cell_type": "markdown",
      "source": [
        "# Marge douce"
      ],
      "metadata": {
        "id": "bsIvL_MPQgNy"
      }
    },
    {
      "cell_type": "markdown",
      "source": [
        "![image.png](data:image/png;base64,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)"
      ],
      "metadata": {
        "id": "RUFfN2IYP_Lq"
      }
    },
    {
      "cell_type": "code",
      "source": [
        "class SVM:\n",
        "    def __init__(self, learning_rate=0.001, lambda_param=0.01, n_iters=10):\n",
        "        self.lr = learning_rate\n",
        "        self.lambda_param = lambda_param\n",
        "        self.n_iters = n_iters\n",
        "        self.w = None\n",
        "        self.b = None\n",
        "\n",
        "    def fit(self, X, y):\n",
        "        n_samples, n_features = X.shape\n",
        "\n",
        "        y_ = np.where(y <= 0, -1, 1)\n",
        "\n",
        "        self.w = np.zeros((n_features,1))\n",
        "        self.b = 2\n",
        "\n",
        "        for i in range(self.n_iters):\n",
        "            for idx, x_i in enumerate(X):\n",
        "                condition = y_[idx] * (np.dot(x_i, self.w) - self.b) >= 1\n",
        "                if condition:\n",
        "                    self.w -= self.lr * (2 * self.lambda_param * self.w)\n",
        "                else:\n",
        "                    self.w -= self.lr * (2 * self.lambda_param * self.w)- 0.0001*y_[idx]\n",
        "                    self.b -= self.lr * y_[idx]\n",
        "\n",
        "    def outcome(self,X):\n",
        "      return np.dot(X, self.w) - self.b\n",
        "\n",
        "    def predict_proba(self, X):\n",
        "      approx = np.dot(X, self.w) - self.b\n",
        "      return np.sign(approx)\n",
        "\n",
        "    def predict(self, x):\n",
        "      proba= self.predict_proba(x) # Get probability of x\n",
        "      # Convert proba to 0 or 1. hint: list comprehension\n",
        "      proba = np.where(proba > 0, 1, proba)\n",
        "      proba = np.where(proba <= 0, 0, proba)\n",
        "      return proba\n",
        "\n",
        "    def accuracy(self,y_true,y_pred):\n",
        "      return (np.sum(y_pred==y_true)/len(y_true))*100\n",
        "    \n",
        "    def hinge_loss(self,actual, predicted):\n",
        "      # replacing 0 = -1\n",
        "      predicted = np.array([-1 if i==0 else i for i in predicted])\n",
        "      actual = np.array([-1 if i==0 else i for i in actual])\n",
        "      # calculating hinge loss\n",
        "      hinge_loss = np.mean([max(0, 1-x*y) for x, y in zip(actual, predicted)])\n",
        "      return hinge_loss"
      ],
      "metadata": {
        "id": "oQjjyUbFD3gu"
      },
      "execution_count": 26,
      "outputs": []
    },
    {
      "cell_type": "code",
      "source": [
        "model = SVM()\n",
        "model.fit(x_train,y_train)"
      ],
      "metadata": {
        "id": "vmATFKF2HmS5"
      },
      "execution_count": 27,
      "outputs": []
    },
    {
      "cell_type": "code",
      "source": [
        "y_pred = model.predict(x_test)"
      ],
      "metadata": {
        "id": "Osy77wJlo_t4"
      },
      "execution_count": 28,
      "outputs": []
    },
    {
      "cell_type": "code",
      "source": [
        "one = np.ones((y_pred.shape[0],1))\n",
        "print(model.hinge_loss(y_test,y_pred))"
      ],
      "metadata": {
        "colab": {
          "base_uri": "https://localhost:8080/"
        },
        "id": "5jzdTIT0pO7q",
        "outputId": "86707824-2443-4bfd-f34e-d910f7298c20"
      },
      "execution_count": 29,
      "outputs": [
        {
          "output_type": "stream",
          "name": "stdout",
          "text": [
            "[0]\n"
          ]
        },
        {
          "output_type": "stream",
          "name": "stderr",
          "text": [
            "/usr/local/lib/python3.7/dist-packages/ipykernel_launcher.py:46: VisibleDeprecationWarning: Creating an ndarray from ragged nested sequences (which is a list-or-tuple of lists-or-tuples-or ndarrays with different lengths or shapes) is deprecated. If you meant to do this, you must specify 'dtype=object' when creating the ndarray.\n",
            "/usr/local/lib/python3.7/dist-packages/numpy/core/_methods.py:163: VisibleDeprecationWarning: Creating an ndarray from ragged nested sequences (which is a list-or-tuple of lists-or-tuples-or ndarrays with different lengths or shapes) is deprecated. If you meant to do this, you must specify 'dtype=object' when creating the ndarray.\n",
            "  arr = asanyarray(a)\n"
          ]
        }
      ]
    },
    {
      "cell_type": "code",
      "source": [
        "print(model.accuracy(y_test,y_pred))"
      ],
      "metadata": {
        "colab": {
          "base_uri": "https://localhost:8080/"
        },
        "id": "RkNgBxosqqYh",
        "outputId": "d751c191-da02-4f6e-f897-0f87df33eee0"
      },
      "execution_count": 30,
      "outputs": [
        {
          "output_type": "stream",
          "name": "stdout",
          "text": [
            "62.78349821656908\n"
          ]
        }
      ]
    }
  ]
}